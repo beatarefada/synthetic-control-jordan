{
  "nbformat": 4,
  "nbformat_minor": 0,
  "metadata": {
    "colab": {
      "provenance": [],
      "include_colab_link": true
    },
    "kernelspec": {
      "name": "ir",
      "display_name": "R"
    },
    "language_info": {
      "name": "R"
    }
  },
  "cells": [
    {
      "cell_type": "markdown",
      "metadata": {
        "id": "view-in-github",
        "colab_type": "text"
      },
      "source": [
        "<a href=\"https://colab.research.google.com/github/beatarefada/synthetic-control-jordan/blob/main/Final_SS154_Code.ipynb\" target=\"_parent\"><img src=\"https://colab.research.google.com/assets/colab-badge.svg\" alt=\"Open In Colab\"/></a>"
      ]
    },
    {
      "cell_type": "markdown",
      "source": [
        "# Data/Packages Importing"
      ],
      "metadata": {
        "id": "TZ0M8jh9w8ny"
      }
    },
    {
      "cell_type": "code",
      "execution_count": null,
      "metadata": {
        "colab": {
          "base_uri": "https://localhost:8080/",
          "height": 459
        },
        "id": "4-htyjPxwEcR",
        "outputId": "f1b1c211-44d6-4b77-8ccd-c2ef22f78e15"
      },
      "outputs": [
        {
          "output_type": "stream",
          "name": "stderr",
          "text": [
            "Installing package into ‘/usr/local/lib/R/site-library’\n",
            "(as ‘lib’ is unspecified)\n",
            "\n",
            "Installing package into ‘/usr/local/lib/R/site-library’\n",
            "(as ‘lib’ is unspecified)\n",
            "\n",
            "Installing package into ‘/usr/local/lib/R/site-library’\n",
            "(as ‘lib’ is unspecified)\n",
            "\n"
          ]
        },
        {
          "output_type": "display_data",
          "data": {
            "text/html": [
              "<table class=\"dataframe\">\n",
              "<caption>A data.frame: 6 × 9</caption>\n",
              "<thead>\n",
              "\t<tr><th></th><th scope=col>Country</th><th scope=col>Country Code</th><th scope=col>Year</th><th scope=col>Population</th><th scope=col>PISA - Mathematics</th><th scope=col>PISA - Reading</th><th scope=col>GDP per capita (current USD)</th><th scope=col>Political Stability and Absence of Violence/Terrorism: Percentile Rank</th><th scope=col>Student:Teacher Ratio</th></tr>\n",
              "\t<tr><th></th><th scope=col>&lt;chr&gt;</th><th scope=col>&lt;dbl&gt;</th><th scope=col>&lt;dbl&gt;</th><th scope=col>&lt;dbl&gt;</th><th scope=col>&lt;dbl&gt;</th><th scope=col>&lt;dbl&gt;</th><th scope=col>&lt;dbl&gt;</th><th scope=col>&lt;dbl&gt;</th><th scope=col>&lt;dbl&gt;</th></tr>\n",
              "</thead>\n",
              "<tbody>\n",
              "\t<tr><th scope=row>1</th><td>Argentina</td><td>1</td><td>2006</td><td> 39476851</td><td>381</td><td>374</td><td> 5890.978</td><td>45.89372</td><td>11</td></tr>\n",
              "\t<tr><th scope=row>2</th><td>Argentina</td><td>1</td><td>2009</td><td> 40684338</td><td>388</td><td>398</td><td> 8184.390</td><td>36.96682</td><td>15</td></tr>\n",
              "\t<tr><th scope=row>3</th><td>Argentina</td><td>1</td><td>2012</td><td> 41733271</td><td>388</td><td>396</td><td>13082.664</td><td>49.28910</td><td>10</td></tr>\n",
              "\t<tr><th scope=row>4</th><td>Argentina</td><td>1</td><td>2015</td><td> 43131966</td><td>409</td><td>425</td><td>13789.060</td><td>46.19048</td><td>NA</td></tr>\n",
              "\t<tr><th scope=row>5</th><td>Argentina</td><td>1</td><td>2018</td><td> 44494502</td><td>379</td><td>402</td><td>11795.163</td><td>47.16981</td><td>10</td></tr>\n",
              "\t<tr><th scope=row>6</th><td>Brazil   </td><td>2</td><td>2006</td><td>188820682</td><td>370</td><td>393</td><td> 5866.023</td><td>35.26570</td><td>31</td></tr>\n",
              "</tbody>\n",
              "</table>\n"
            ],
            "text/markdown": "\nA data.frame: 6 × 9\n\n| <!--/--> | Country &lt;chr&gt; | Country Code &lt;dbl&gt; | Year &lt;dbl&gt; | Population &lt;dbl&gt; | PISA - Mathematics &lt;dbl&gt; | PISA - Reading &lt;dbl&gt; | GDP per capita (current USD) &lt;dbl&gt; | Political Stability and Absence of Violence/Terrorism: Percentile Rank &lt;dbl&gt; | Student:Teacher Ratio &lt;dbl&gt; |\n|---|---|---|---|---|---|---|---|---|---|\n| 1 | Argentina | 1 | 2006 |  39476851 | 381 | 374 |  5890.978 | 45.89372 | 11 |\n| 2 | Argentina | 1 | 2009 |  40684338 | 388 | 398 |  8184.390 | 36.96682 | 15 |\n| 3 | Argentina | 1 | 2012 |  41733271 | 388 | 396 | 13082.664 | 49.28910 | 10 |\n| 4 | Argentina | 1 | 2015 |  43131966 | 409 | 425 | 13789.060 | 46.19048 | NA |\n| 5 | Argentina | 1 | 2018 |  44494502 | 379 | 402 | 11795.163 | 47.16981 | 10 |\n| 6 | Brazil    | 2 | 2006 | 188820682 | 370 | 393 |  5866.023 | 35.26570 | 31 |\n\n",
            "text/latex": "A data.frame: 6 × 9\n\\begin{tabular}{r|lllllllll}\n  & Country & Country Code & Year & Population & PISA - Mathematics & PISA - Reading & GDP per capita (current USD) & Political Stability and Absence of Violence/Terrorism: Percentile Rank & Student:Teacher Ratio\\\\\n  & <chr> & <dbl> & <dbl> & <dbl> & <dbl> & <dbl> & <dbl> & <dbl> & <dbl>\\\\\n\\hline\n\t1 & Argentina & 1 & 2006 &  39476851 & 381 & 374 &  5890.978 & 45.89372 & 11\\\\\n\t2 & Argentina & 1 & 2009 &  40684338 & 388 & 398 &  8184.390 & 36.96682 & 15\\\\\n\t3 & Argentina & 1 & 2012 &  41733271 & 388 & 396 & 13082.664 & 49.28910 & 10\\\\\n\t4 & Argentina & 1 & 2015 &  43131966 & 409 & 425 & 13789.060 & 46.19048 & NA\\\\\n\t5 & Argentina & 1 & 2018 &  44494502 & 379 & 402 & 11795.163 & 47.16981 & 10\\\\\n\t6 & Brazil    & 2 & 2006 & 188820682 & 370 & 393 &  5866.023 & 35.26570 & 31\\\\\n\\end{tabular}\n",
            "text/plain": [
              "  Country   Country Code Year Population PISA - Mathematics PISA - Reading\n",
              "1 Argentina 1            2006  39476851  381                374           \n",
              "2 Argentina 1            2009  40684338  388                398           \n",
              "3 Argentina 1            2012  41733271  388                396           \n",
              "4 Argentina 1            2015  43131966  409                425           \n",
              "5 Argentina 1            2018  44494502  379                402           \n",
              "6 Brazil    2            2006 188820682  370                393           \n",
              "  GDP per capita (current USD)\n",
              "1  5890.978                   \n",
              "2  8184.390                   \n",
              "3 13082.664                   \n",
              "4 13789.060                   \n",
              "5 11795.163                   \n",
              "6  5866.023                   \n",
              "  Political Stability and Absence of Violence/Terrorism: Percentile Rank\n",
              "1 45.89372                                                              \n",
              "2 36.96682                                                              \n",
              "3 49.28910                                                              \n",
              "4 46.19048                                                              \n",
              "5 47.16981                                                              \n",
              "6 35.26570                                                              \n",
              "  Student:Teacher Ratio\n",
              "1 11                   \n",
              "2 15                   \n",
              "3 10                   \n",
              "4 NA                   \n",
              "5 10                   \n",
              "6 31                   "
            ]
          },
          "metadata": {}
        }
      ],
      "source": [
        "# installing key packages\n",
        "install.packages(\"gsheet\")\n",
        "install.packages('Synth')\n",
        "install.packages('dplyr')\n",
        "library(gsheet)\n",
        "library(Synth)\n",
        "library(dplyr)\n",
        "\n",
        "# Importing data\n",
        "data <- gsheet2tbl(\"https://docs.google.com/spreadsheets/d/1Qz5WWtx2iGSX-b_YVL9leFZC7MBABPF68x_0I15ant4/edit#gid=0\", sheet='Data')\n",
        "data <- as.data.frame(data) # convert to data frame\n",
        "data <- data %>%\n",
        "    select(-`Refugee population by country or territory of asylum`, -`Refugee population by country or territory of origin`) %>%\n",
        "    filter(`Year` < 2022, `Country` != \"Tunisia\")\n",
        "\n",
        "# Displaying data\n",
        "head(data)"
      ]
    },
    {
      "cell_type": "markdown",
      "source": [
        "## Missing Data"
      ],
      "metadata": {
        "id": "Wqq7-C00qGJP"
      }
    },
    {
      "cell_type": "code",
      "source": [
        "# install zoo and tidyr packages\n",
        "install.packages('zoo')\n",
        "library(zoo)\n",
        "install.packages('tidyr')\n",
        "library(tidyr)\n",
        "\n",
        "# Identify missing values\n",
        "missing_indices_math <- which(is.na(data$`PISA - Mathematics`))\n",
        "missing_indices_read <- which(is.na(data$`PISA - Reading`))\n",
        "missing_indices_ratio <- which(is.na(data$`Student:Teacher Ratio`))\n",
        "\n",
        "# Perform linear interpolation\n",
        "data$PISA_math_filled <- na.approx(data$`PISA - Mathematics`)\n",
        "data$PISA_read_filled <- na.approx(data$`PISA - Reading`)\n",
        "data$Student_teach_filled <- na.locf(data$`Student:Teacher Ratio`)\n",
        "\n",
        "# Fill missing values using linear interpolation for only the identified missing indices\n",
        "data$PISA_math_filled[missing_indices_math] <- na.approx(data$`PISA - Mathematics`)[missing_indices_math]\n",
        "data$PISA_read_filled[missing_indices_read] <- na.approx(data$`PISA - Reading`)[missing_indices_read]\n",
        "data$Student_teach_filled[missing_indices_ratio] <- na.locf(data$`Student:Teacher Ratio`)[missing_indices_ratio]\n",
        "\n",
        "summary(data)"
      ],
      "metadata": {
        "id": "0FIQaEyiLoCZ",
        "colab": {
          "base_uri": "https://localhost:8080/",
          "height": 676
        },
        "outputId": "a2bf7f44-945c-43f9-a99a-e996c1cd8cb7"
      },
      "execution_count": null,
      "outputs": [
        {
          "output_type": "stream",
          "name": "stderr",
          "text": [
            "Installing package into ‘/usr/local/lib/R/site-library’\n",
            "(as ‘lib’ is unspecified)\n",
            "\n",
            "Installing package into ‘/usr/local/lib/R/site-library’\n",
            "(as ‘lib’ is unspecified)\n",
            "\n"
          ]
        },
        {
          "output_type": "display_data",
          "data": {
            "text/plain": [
              "   Country           Country Code         Year        Population       \n",
              " Length:70          Min.   : 1.000   Min.   :2006   Min.   :   501863  \n",
              " Class :character   1st Qu.: 4.000   1st Qu.:2009   1st Qu.:  3379054  \n",
              " Mode  :character   Median : 7.500   Median :2012   Median :  7375166  \n",
              "                    Mean   : 7.571   Mean   :2012   Mean   : 54094745  \n",
              "                    3rd Qu.:11.000   3rd Qu.:2015   3rd Qu.: 68821181  \n",
              "                    Max.   :15.000   Max.   :2018   Max.   :267066843  \n",
              "                                                                       \n",
              " PISA - Mathematics PISA - Reading  GDP per capita (current USD)\n",
              " Min.   :318.0      Min.   :242.0   Min.   : 1573               \n",
              " 1st Qu.:388.0      1st Qu.:402.0   1st Qu.: 5872               \n",
              " Median :418.0      Median :420.5   Median : 8954               \n",
              " Mean   :433.3      Mean   :430.9   Mean   :18516               \n",
              " 3rd Qu.:464.0      3rd Qu.:471.0   3rd Qu.:15921               \n",
              " Max.   :561.0      Max.   :545.0   Max.   :98041               \n",
              "                                                                \n",
              " Political Stability and Absence of Violence/Terrorism: Percentile Rank\n",
              " Min.   : 9.953                                                        \n",
              " 1st Qu.:29.280                                                        \n",
              " Median :50.472                                                        \n",
              " Mean   :51.731                                                        \n",
              " 3rd Qu.:70.837                                                        \n",
              " Max.   :92.417                                                        \n",
              "                                                                       \n",
              " Student:Teacher Ratio PISA_math_filled PISA_read_filled Student_teach_filled\n",
              " Min.   :10.00         Min.   :318.0    Min.   :242.0    Min.   :10.0        \n",
              " 1st Qu.:13.00         1st Qu.:388.0    1st Qu.:402.0    1st Qu.:13.0        \n",
              " Median :16.00         Median :418.0    Median :420.5    Median :15.5        \n",
              " Mean   :16.36         Mean   :433.3    Mean   :430.9    Mean   :16.2        \n",
              " 3rd Qu.:17.00         3rd Qu.:464.0    3rd Qu.:471.0    3rd Qu.:17.0        \n",
              " Max.   :31.00         Max.   :561.0    Max.   :545.0    Max.   :31.0        \n",
              " NA's   :3                                                                   "
            ]
          },
          "metadata": {}
        }
      ]
    },
    {
      "cell_type": "markdown",
      "source": [
        "# Summary Statistics"
      ],
      "metadata": {
        "id": "l95xQ6XdE-XZ"
      }
    },
    {
      "cell_type": "code",
      "source": [
        "# Load libraries\n",
        "library(purrr)\n",
        "library(knitr)\n",
        "install.packages(\"dplyr\")\n",
        "library(dplyr)\n",
        "\n",
        "# List of variables\n",
        "vars <- c(\"PISA_math_filled\", \"PISA_read_filled\", \"Population\", \"GDP per capita (current USD)\", \"Political Stability and Absence of Violence/Terrorism: Percentile Rank\", \"Student_teach_filled\")\n",
        "var_names <- c(\"PISA_math_filled\" = \"PISA Math\",\n",
        "               \"PISA_read_filled\" = \"PISA Reading\",\n",
        "               \"Population\" = \"Population\",\n",
        "               \"GDP per capita (current USD)\" = \"GDP per capita\",\n",
        "               \"Political Stability and Absence of Violence/Terrorism: Percentile Rank\" = \"Political Stability\",\n",
        "               \"Student_teach_filled\" = \"Student-Teacher Ratio\")\n",
        "\n",
        "# Function to calculate means and medians\n",
        "calculate_stats <- function(var, var_name) {\n",
        "    data %>%\n",
        "        group_by(Year) %>%\n",
        "        summarize(mean = mean(.data[[var]], na.rm = TRUE), .groups = 'drop') %>%\n",
        "        mutate(varname_str = var_name)\n",
        "}\n",
        "\n",
        "# Calculate means and medians\n",
        "stats_list <- map2(vars, var_names[vars], calculate_stats)\n",
        "\n",
        "# Combine the list of data frames into a single data frame\n",
        "result <- bind_rows(stats_list)\n",
        "\n",
        "# Print the result\n",
        "glimpse(result)"
      ],
      "metadata": {
        "id": "h_CVmMEH6PE3",
        "colab": {
          "base_uri": "https://localhost:8080/"
        },
        "outputId": "1f1495f7-8de7-42ee-8107-876c42e89583"
      },
      "execution_count": null,
      "outputs": [
        {
          "output_type": "stream",
          "name": "stderr",
          "text": [
            "Installing package into ‘/usr/local/lib/R/site-library’\n",
            "(as ‘lib’ is unspecified)\n",
            "\n"
          ]
        },
        {
          "output_type": "stream",
          "name": "stdout",
          "text": [
            "Rows: 30\n",
            "Columns: 3\n",
            "$ Year        \u001b[3m\u001b[90m<dbl>\u001b[39m\u001b[23m 2006, 2009, 2012, 2015, 2018, 2006, 2009, 2012, 2015, 2018…\n",
            "$ mean        \u001b[3m\u001b[90m<dbl>\u001b[39m\u001b[23m 4.235714e+02, 4.294286e+02, 4.354286e+02, 4.385714e+02, 4.…\n",
            "$ varname_str \u001b[3m\u001b[90m<chr>\u001b[39m\u001b[23m \"PISA Math\", \"PISA Math\", \"PISA Math\", \"PISA Math\", \"PISA …\n"
          ]
        }
      ]
    },
    {
      "cell_type": "markdown",
      "source": [
        "# Synthetic Control Analysis - Mathematics"
      ],
      "metadata": {
        "id": "VU_e8voZxZxp"
      }
    },
    {
      "cell_type": "markdown",
      "source": [
        "## Data Prep"
      ],
      "metadata": {
        "id": "YpVG91rxrR1U"
      }
    },
    {
      "cell_type": "code",
      "source": [
        "dataprep.math <- dataprep(foo=data,\n",
        "                         predictors = c(\"Population\", \"GDP per capita (current USD)\", \"Political Stability and Absence of Violence/Terrorism: Percentile Rank\", \"Student_teach_filled\"),\n",
        "                         predictors.op = \"mean\",\n",
        "                         time.predictors.prior=c(2006, 2009),\n",
        "                         special.predictors = list(\n",
        "                             list(\"PISA - Mathematics\", 2006, 'mean'),\n",
        "                             list(\"PISA - Reading\", 2006, 'mean')),\n",
        "                        dependent = \"PISA_math_filled\",\n",
        "                        unit.variable = \"Country Code\",\n",
        "                        unit.names.variable = \"Country\",\n",
        "                        time.variable = \"Year\",\n",
        "                        treatment.identifier = 7,\n",
        "                        controls.identifier = c(1:6, 8:13, 15),\n",
        "                        time.optimize.ssr=c(2006, 2009, 2012, 2015, 2018),\n",
        "                        time.plot=c(2006, 2009, 2012, 2015, 2018)\n",
        ")"
      ],
      "metadata": {
        "id": "MlBBGb2cxU9t"
      },
      "execution_count": null,
      "outputs": []
    },
    {
      "cell_type": "markdown",
      "source": [
        "## Synthetic Control Analysis"
      ],
      "metadata": {
        "id": "UcPzeiSUxeoF"
      }
    },
    {
      "cell_type": "code",
      "source": [
        "# Sythnetic control\n",
        "synth.math <- synth(data.prep.obj = dataprep.math)\n",
        "\n",
        "# Creating tables\n",
        "synth.tables.math <- synth.tab(dataprep.res = dataprep.math,\n",
        "                          synth.res = synth.math\n",
        ")\n",
        "synth.tables.math$tab.w[1:13, ]\n",
        "synth.tables.math$tab.pred[1:5, ]\n",
        "\n",
        "# Path plot\n",
        "path.plot(synth.res = synth.math,\n",
        "          dataprep.res = dataprep.math,\n",
        "          Ylab = \"PISA - Mathematics\",\n",
        "          Xlab = \"Year\",\n",
        "          Ylim = c(370, 410),\n",
        "          Legend = c(\"Jordan\",\"Synthetic Jordan\"),\n",
        "          Legend.position = \"bottomright\")\n",
        "abline(v=2011, lty=2) # adding vertical line for treatment year\n",
        "axis(1, at=seq(2006, 2018, by=2))\n",
        "\n",
        "# Gaps plot\n",
        "gaps.plot(synth.res = synth.math,\n",
        "          dataprep.res = dataprep.math,\n",
        "          Ylab = \"Difference in PISA, Jordan vs Synthetic Jordan\",\n",
        "          Xlab = \"Year\",\n",
        "          Main = NA)\n",
        "abline(v=2011, lty=2) # adding vertical line for treatment year\n",
        "axis(1, at=seq(2006, 2018, by=2))"
      ],
      "metadata": {
        "id": "q-MdPQ0xxdEI",
        "colab": {
          "base_uri": "https://localhost:8080/",
          "height": 1000
        },
        "outputId": "06aee3aa-22fc-4d5c-c4cc-17fbbf209e0c"
      },
      "execution_count": null,
      "outputs": [
        {
          "output_type": "stream",
          "name": "stdout",
          "text": [
            "\n",
            "X1, X0, Z1, Z0 all come directly from dataprep object.\n",
            "\n",
            "\n",
            "**************** \n",
            " searching for synthetic control unit  \n",
            " \n",
            "\n",
            "**************** \n",
            "**************** \n",
            "**************** \n",
            "\n",
            "MSPE (LOSS V): 40.09566 \n",
            "\n",
            "solution.v:\n",
            " 5.7e-09 0.001367571 0.04390159 7.61542e-05 0.8256574 0.1289973 \n",
            "\n",
            "solution.w:\n",
            " 7.725e-05 0.5194862 0.0001719629 0.0003160775 1.73816e-05 0.3032231 4.32048e-05 0.0001592083 0.0001399809 0.0001405562 0.0001432889 0.175947 0.0001347983 \n",
            "\n"
          ]
        },
        {
          "output_type": "display_data",
          "data": {
            "text/html": [
              "<table class=\"dataframe\">\n",
              "<caption>A data.frame: 13 × 3</caption>\n",
              "<thead>\n",
              "\t<tr><th></th><th scope=col>w.weights</th><th scope=col>unit.names</th><th scope=col>unit.numbers</th></tr>\n",
              "\t<tr><th></th><th scope=col>&lt;dbl&gt;</th><th scope=col>&lt;chr&gt;</th><th scope=col>&lt;dbl&gt;</th></tr>\n",
              "</thead>\n",
              "<tbody>\n",
              "\t<tr><th scope=row>1</th><td>0.000</td><td>Argentina         </td><td> 1</td></tr>\n",
              "\t<tr><th scope=row>2</th><td>0.519</td><td>Brazil            </td><td> 2</td></tr>\n",
              "\t<tr><th scope=row>3</th><td>0.000</td><td>Bulgaria          </td><td> 3</td></tr>\n",
              "\t<tr><th scope=row>4</th><td>0.000</td><td>Croatia           </td><td> 4</td></tr>\n",
              "\t<tr><th scope=row>5</th><td>0.000</td><td>Hong Kong-China   </td><td> 5</td></tr>\n",
              "\t<tr><th scope=row>6</th><td>0.303</td><td>Indonesia         </td><td> 6</td></tr>\n",
              "\t<tr><th scope=row>8</th><td>0.000</td><td>Macao-China       </td><td> 8</td></tr>\n",
              "\t<tr><th scope=row>9</th><td>0.000</td><td>Montenegro        </td><td> 9</td></tr>\n",
              "\t<tr><th scope=row>10</th><td>0.000</td><td>Qatar             </td><td>10</td></tr>\n",
              "\t<tr><th scope=row>11</th><td>0.000</td><td>Romania           </td><td>11</td></tr>\n",
              "\t<tr><th scope=row>12</th><td>0.000</td><td>Russian Federation</td><td>12</td></tr>\n",
              "\t<tr><th scope=row>13</th><td>0.176</td><td>Thailand          </td><td>13</td></tr>\n",
              "\t<tr><th scope=row>15</th><td>0.000</td><td>Uruguay           </td><td>15</td></tr>\n",
              "</tbody>\n",
              "</table>\n"
            ],
            "text/markdown": "\nA data.frame: 13 × 3\n\n| <!--/--> | w.weights &lt;dbl&gt; | unit.names &lt;chr&gt; | unit.numbers &lt;dbl&gt; |\n|---|---|---|---|\n| 1 | 0.000 | Argentina          |  1 |\n| 2 | 0.519 | Brazil             |  2 |\n| 3 | 0.000 | Bulgaria           |  3 |\n| 4 | 0.000 | Croatia            |  4 |\n| 5 | 0.000 | Hong Kong-China    |  5 |\n| 6 | 0.303 | Indonesia          |  6 |\n| 8 | 0.000 | Macao-China        |  8 |\n| 9 | 0.000 | Montenegro         |  9 |\n| 10 | 0.000 | Qatar              | 10 |\n| 11 | 0.000 | Romania            | 11 |\n| 12 | 0.000 | Russian Federation | 12 |\n| 13 | 0.176 | Thailand           | 13 |\n| 15 | 0.000 | Uruguay            | 15 |\n\n",
            "text/latex": "A data.frame: 13 × 3\n\\begin{tabular}{r|lll}\n  & w.weights & unit.names & unit.numbers\\\\\n  & <dbl> & <chr> & <dbl>\\\\\n\\hline\n\t1 & 0.000 & Argentina          &  1\\\\\n\t2 & 0.519 & Brazil             &  2\\\\\n\t3 & 0.000 & Bulgaria           &  3\\\\\n\t4 & 0.000 & Croatia            &  4\\\\\n\t5 & 0.000 & Hong Kong-China    &  5\\\\\n\t6 & 0.303 & Indonesia          &  6\\\\\n\t8 & 0.000 & Macao-China        &  8\\\\\n\t9 & 0.000 & Montenegro         &  9\\\\\n\t10 & 0.000 & Qatar              & 10\\\\\n\t11 & 0.000 & Romania            & 11\\\\\n\t12 & 0.000 & Russian Federation & 12\\\\\n\t13 & 0.176 & Thailand           & 13\\\\\n\t15 & 0.000 & Uruguay            & 15\\\\\n\\end{tabular}\n",
            "text/plain": [
              "   w.weights unit.names         unit.numbers\n",
              "1  0.000     Argentina           1          \n",
              "2  0.519     Brazil              2          \n",
              "3  0.000     Bulgaria            3          \n",
              "4  0.000     Croatia             4          \n",
              "5  0.000     Hong Kong-China     5          \n",
              "6  0.303     Indonesia           6          \n",
              "8  0.000     Macao-China         8          \n",
              "9  0.000     Montenegro          9          \n",
              "10 0.000     Qatar              10          \n",
              "11 0.000     Romania            11          \n",
              "12 0.000     Russian Federation 12          \n",
              "13 0.176     Thailand           13          \n",
              "15 0.000     Uruguay            15          "
            ]
          },
          "metadata": {}
        },
        {
          "output_type": "display_data",
          "data": {
            "text/html": [
              "<table class=\"dataframe\">\n",
              "<caption>A matrix: 5 × 3 of type dbl</caption>\n",
              "<thead>\n",
              "\t<tr><th></th><th scope=col>Treated</th><th scope=col>Synthetic</th><th scope=col>Sample Mean</th></tr>\n",
              "</thead>\n",
              "<tbody>\n",
              "\t<tr><th scope=row>Population</th><td>6428020.500</td><td>1.830784e+08</td><td>55648816.846</td></tr>\n",
              "\t<tr><th scope=row>GDP per capita (current USD)</th><td>   3048.592</td><td>5.007335e+03</td><td>   14728.870</td></tr>\n",
              "\t<tr><th scope=row>Political Stability and Absence of Violence/Terrorism: Percentile Rank</th><td>     27.949</td><td>2.950000e+01</td><td>      53.004</td></tr>\n",
              "\t<tr><th scope=row>Student_teach_filled</th><td>     17.500</td><td>2.536800e+01</td><td>      17.038</td></tr>\n",
              "\t<tr><th scope=row>special.PISA - Mathematics.2006</th><td>    384.000</td><td>3.847120e+02</td><td>     426.615</td></tr>\n",
              "</tbody>\n",
              "</table>\n"
            ],
            "text/markdown": "\nA matrix: 5 × 3 of type dbl\n\n| <!--/--> | Treated | Synthetic | Sample Mean |\n|---|---|---|---|\n| Population | 6428020.500 | 1.830784e+08 | 55648816.846 |\n| GDP per capita (current USD) |    3048.592 | 5.007335e+03 |    14728.870 |\n| Political Stability and Absence of Violence/Terrorism: Percentile Rank |      27.949 | 2.950000e+01 |       53.004 |\n| Student_teach_filled |      17.500 | 2.536800e+01 |       17.038 |\n| special.PISA - Mathematics.2006 |     384.000 | 3.847120e+02 |      426.615 |\n\n",
            "text/latex": "A matrix: 5 × 3 of type dbl\n\\begin{tabular}{r|lll}\n  & Treated & Synthetic & Sample Mean\\\\\n\\hline\n\tPopulation & 6428020.500 & 1.830784e+08 & 55648816.846\\\\\n\tGDP per capita (current USD) &    3048.592 & 5.007335e+03 &    14728.870\\\\\n\tPolitical Stability and Absence of Violence/Terrorism: Percentile Rank &      27.949 & 2.950000e+01 &       53.004\\\\\n\tStudent\\_teach\\_filled &      17.500 & 2.536800e+01 &       17.038\\\\\n\tspecial.PISA - Mathematics.2006 &     384.000 & 3.847120e+02 &      426.615\\\\\n\\end{tabular}\n",
            "text/plain": [
              "                                                                       Treated    \n",
              "Population                                                             6428020.500\n",
              "GDP per capita (current USD)                                              3048.592\n",
              "Political Stability and Absence of Violence/Terrorism: Percentile Rank      27.949\n",
              "Student_teach_filled                                                        17.500\n",
              "special.PISA - Mathematics.2006                                            384.000\n",
              "                                                                       Synthetic   \n",
              "Population                                                             1.830784e+08\n",
              "GDP per capita (current USD)                                           5.007335e+03\n",
              "Political Stability and Absence of Violence/Terrorism: Percentile Rank 2.950000e+01\n",
              "Student_teach_filled                                                   2.536800e+01\n",
              "special.PISA - Mathematics.2006                                        3.847120e+02\n",
              "                                                                       Sample Mean \n",
              "Population                                                             55648816.846\n",
              "GDP per capita (current USD)                                              14728.870\n",
              "Political Stability and Absence of Violence/Terrorism: Percentile Rank       53.004\n",
              "Student_teach_filled                                                         17.038\n",
              "special.PISA - Mathematics.2006                                             426.615"
            ]
          },
          "metadata": {}
        },
        {
          "output_type": "display_data",
          "data": {
            "text/plain": [
              "Plot with title “NA”"
            ],
            "image/png": "[encoded data removed]"
          },
          "metadata": {
            "image/png": {
              "width": 420,
              "height": 420
            }
          }
        },
        {
          "output_type": "display_data",
          "data": {
            "text/plain": [
              "Plot with title “NA”"
            ],
            "image/png": "[encoded data removed]"
          },
          "metadata": {
            "image/png": {
              "width": 420,
              "height": 420
            }
          }
        }
      ]
    },
    {
      "cell_type": "markdown",
      "source": [
        "## Placebo test 1. Donor pool countries versus Jordan"
      ],
      "metadata": {
        "id": "f0Aro4ckGs4g"
      }
    },
    {
      "cell_type": "code",
      "source": [
        "# Matrix for storing results\n",
        "store <- matrix(NA,5,14)\n",
        "colnames(store) <- unique(data$Country)\n",
        "\n",
        "# Extract unique Country Codes, making sure they're in the order we expect\n",
        "country_codes = unique(data$`Country Code`)\n",
        "\n",
        "# Filter out Tunisia's Country Code from the country_codes vector\n",
        "country_codes = country_codes[country_codes != 14]\n",
        "\n",
        "# Run placebo test\n",
        "for (i in seq_along(country_codes))\n",
        "{\n",
        "    iter <- country_codes[i]\n",
        "\n",
        " dataprep.out <-\n",
        "              dataprep(foo = data,\n",
        "                       predictors = c(\"Population\", \"GDP per capita (current USD)\",\n",
        "                       \"Political Stability and Absence of Violence/Terrorism: Percentile Rank\",\n",
        "                       \"Student:Teacher Ratio\"),\n",
        "                         predictors.op = \"mean\",\n",
        "                         time.predictors.prior=c(2006, 2009),\n",
        "                         special.predictors = list(\n",
        "                             list(\"PISA - Mathematics\", 2006, 'mean'),\n",
        "                             list(\"PISA - Reading\", 2006, 'mean')),\n",
        "                        dependent = \"PISA_math_filled\",\n",
        "                        unit.variable = \"Country Code\",\n",
        "                        unit.names.variable = \"Country\",\n",
        "                        time.variable = \"Year\",\n",
        "                       treatment.identifier = iter,\n",
        "                       controls.identifier = country_codes[country_codes != iter],\n",
        "                       time.optimize.ssr=c(2006, 2009, 2012, 2015, 2018),\n",
        "                        time.plot=c(2006, 2009, 2012, 2015, 2018)\n",
        "                       )\n",
        "\n",
        "\n",
        "# run synth\n",
        "synth.out <- synth(\n",
        "                   data.prep.obj = dataprep.out,\n",
        "                   method = \"BFGS\"\n",
        "                   )\n",
        "\n",
        "# store gaps\n",
        "store[, i] <- dataprep.out$Y1plot - (dataprep.out$Y0plot %*% synth.out$solution.w)\n",
        "}"
      ],
      "metadata": {
        "id": "v0iJEeFSkXFV",
        "colab": {
          "base_uri": "https://localhost:8080/"
        },
        "outputId": "998059ff-b369-4d51-9724-870f215a2daa"
      },
      "execution_count": null,
      "outputs": [
        {
          "output_type": "stream",
          "name": "stdout",
          "text": [
            "\n",
            "X1, X0, Z1, Z0 all come directly from dataprep object.\n",
            "\n",
            "\n",
            "**************** \n",
            " searching for synthetic control unit  \n",
            " \n",
            "\n",
            "**************** \n",
            "**************** \n",
            "**************** \n",
            "\n",
            "MSPE (LOSS V): 86.82925 \n",
            "\n",
            "solution.v:\n",
            " 2.69507e-05 0.03193468 0.003017894 0.01099221 0.8366474 0.1173809 \n",
            "\n",
            "solution.w:\n",
            " 4.6e-09 0.1793774 7.89e-07 3.69e-08 0.6405935 2.7017e-06 2.238e-07 0.0001250517 0.1798901 4.8925e-06 1.0572e-06 1.2361e-06 3.0081e-06 \n",
            "\n",
            "\n",
            "X1, X0, Z1, Z0 all come directly from dataprep object.\n",
            "\n",
            "\n",
            "**************** \n",
            " searching for synthetic control unit  \n",
            " \n",
            "\n",
            "**************** \n",
            "**************** \n",
            "**************** \n",
            "\n",
            "MSPE (LOSS V): 68.59398 \n",
            "\n",
            "solution.v:\n",
            " 0.002013418 0.1182807 7.84519e-05 0.005534413 0.7503687 0.1237243 \n",
            "\n",
            "solution.w:\n",
            " 1.03e-08 3.0959e-06 3.1168e-06 1.745e-07 0.2536235 0.6231057 9.557e-07 4.2991e-06 0.1232205 5.9986e-06 2.7477e-06 2.44929e-05 5.3462e-06 \n",
            "\n",
            "\n",
            "X1, X0, Z1, Z0 all come directly from dataprep object.\n",
            "\n",
            "\n",
            "**************** \n",
            " searching for synthetic control unit  \n",
            " \n",
            "\n",
            "**************** \n",
            "**************** \n",
            "**************** \n",
            "\n",
            "MSPE (LOSS V): 8.662253 \n",
            "\n",
            "solution.v:\n",
            " 0.9307006 0.002604978 0.0008175725 0.06115944 0.0001485483 0.004568857 \n",
            "\n",
            "solution.w:\n",
            " 0.1402514 6.51e-08 0.600166 7e-08 5.96e-08 8.419e-07 6.95e-08 2.0109e-06 0.259578 4.964e-07 2.92e-08 1.391e-07 7.777e-07 \n",
            "\n",
            "\n",
            "X1, X0, Z1, Z0 all come directly from dataprep object.\n",
            "\n",
            "\n",
            "**************** \n",
            " searching for synthetic control unit  \n",
            " \n",
            "\n",
            "**************** \n",
            "**************** \n",
            "**************** \n",
            "\n",
            "MSPE (LOSS V): 16.50656 \n",
            "\n",
            "solution.v:\n",
            " 0.02007613 0.5850163 5.908e-07 6.2e-08 0.3774193 0.01748756 \n",
            "\n",
            "solution.w:\n",
            " 0.0007960382 0.0005448241 0.003081068 0.3379118 0.00060396 0.001745042 0.0001060125 0.001719794 0.0002199721 0.001430892 0.0294586 0.3466131 0.2757689 \n",
            "\n",
            "\n",
            "X1, X0, Z1, Z0 all come directly from dataprep object.\n",
            "\n",
            "\n",
            "**************** \n",
            " searching for synthetic control unit  \n",
            " \n",
            "\n",
            "**************** \n",
            "**************** \n",
            "**************** \n",
            "\n",
            "MSPE (LOSS V): 395.6006 \n",
            "\n",
            "solution.v:\n",
            " 0.1470863 0.01157505 0.3826293 0.004797735 0.06012733 0.3937842 \n",
            "\n",
            "solution.w:\n",
            " 1.04e-08 1.47e-08 1.43e-08 6.12e-08 1.02e-08 9.6e-09 0.9999998 1.43e-08 1.17e-08 1.31e-08 1.19e-08 8.9e-09 2.12e-08 \n",
            "\n",
            "\n",
            "X1, X0, Z1, Z0 all come directly from dataprep object.\n",
            "\n",
            "\n",
            "**************** \n",
            " searching for synthetic control unit  \n",
            " \n",
            "\n",
            "**************** \n",
            "**************** \n",
            "**************** \n",
            "\n",
            "MSPE (LOSS V): 193.3984 \n",
            "\n",
            "solution.v:\n",
            " 0.8207732 0.03627797 0.1030698 0.01901138 0.007727055 0.0131405 \n",
            "\n",
            "solution.w:\n",
            " 4.7e-09 0.9955587 2.2e-09 1.6e-09 9e-10 3e-09 1e-09 1.4e-09 1e-09 2.1e-09 0.004441263 9.7e-09 1.1e-09 \n",
            "\n",
            "\n",
            "X1, X0, Z1, Z0 all come directly from dataprep object.\n",
            "\n",
            "\n",
            "**************** \n",
            " searching for synthetic control unit  \n",
            " \n",
            "\n",
            "**************** \n",
            "**************** \n",
            "**************** \n",
            "\n",
            "MSPE (LOSS V): 39.71284 \n",
            "\n",
            "solution.v:\n",
            " 5.35861e-05 0.02307093 0.00341748 0.0001141305 0.8913409 0.08200301 \n",
            "\n",
            "solution.w:\n",
            " 0.0009535385 0.537586 0.00300449 0.008223504 0.0001496418 0.2980989 0.0002511068 0.002679736 0.0005935596 0.001596656 0.001025486 0.1437521 0.002085338 \n",
            "\n",
            "\n",
            "X1, X0, Z1, Z0 all come directly from dataprep object.\n",
            "\n",
            "\n",
            "**************** \n",
            " searching for synthetic control unit  \n",
            " \n",
            "\n",
            "**************** \n",
            "**************** \n",
            "**************** \n",
            "\n",
            "MSPE (LOSS V): 134.5789 \n",
            "\n",
            "solution.v:\n",
            " 0.7869409 0.09896929 2.43089e-05 0.07868945 0.03537368 2.3239e-06 \n",
            "\n",
            "solution.w:\n",
            " 5.16e-08 5.233e-07 3.14e-08 1.88e-08 0.9101684 3.47e-08 1.0176e-06 5.79e-07 0.08982744 2.742e-07 1.92e-08 1.2059e-06 3.565e-07 \n",
            "\n",
            "\n",
            "X1, X0, Z1, Z0 all come directly from dataprep object.\n",
            "\n",
            "\n",
            "**************** \n",
            " searching for synthetic control unit  \n",
            " \n",
            "\n",
            "**************** \n",
            "**************** \n",
            "**************** \n",
            "\n",
            "MSPE (LOSS V): 15.37752 \n",
            "\n",
            "solution.v:\n",
            " 0.1676643 9.20663e-05 0.4225976 0.03660153 0.1736713 0.1993732 \n",
            "\n",
            "solution.w:\n",
            " 0.0007645368 0.0005880217 0.0002974732 2.988e-07 2.0071e-06 0.0002749698 0.3232741 0.1095568 0.2366035 0.02195168 0.0002508466 0.002488393 0.3039474 \n",
            "\n",
            "\n",
            " Missing data- treated unit; predictor: Student:Teacher Ratio ; for period: 2006 \n",
            " We ignore (na.rm = TRUE) all missing values for predictors.op.\n",
            "\n",
            "X1, X0, Z1, Z0 all come directly from dataprep object.\n",
            "\n",
            "\n",
            "**************** \n",
            " searching for synthetic control unit  \n",
            " \n",
            "\n",
            "**************** \n",
            "**************** \n",
            "**************** \n",
            "\n",
            "MSPE (LOSS V): 943.8857 \n",
            "\n",
            "solution.v:\n",
            " 0.01076669 0.04668423 0.01559797 0.002014164 0.8180739 0.106863 \n",
            "\n",
            "solution.w:\n",
            " 0.04679845 0.9532001 2.174e-07 8.44e-08 2.57e-08 5.59e-08 1.657e-07 5.39e-08 3.048e-07 2.123e-07 6.73e-08 1.075e-07 1.787e-07 \n",
            "\n",
            "\n",
            "X1, X0, Z1, Z0 all come directly from dataprep object.\n",
            "\n",
            "\n",
            "**************** \n",
            " searching for synthetic control unit  \n",
            " \n",
            "\n",
            "**************** \n",
            "**************** \n",
            "**************** \n",
            "\n",
            "MSPE (LOSS V): 20.52431 \n",
            "\n",
            "solution.v:\n",
            " 0.1746669 0.1249094 0.2177301 6.30379e-05 0.4393571 0.04327346 \n",
            "\n",
            "solution.w:\n",
            " 0.06267777 0.001208176 0.7946153 0.0001351074 0.000119745 0.001690792 0.0005121062 0.00160472 0.01816092 0.02022032 0.08405877 7.131e-07 0.01499559 \n",
            "\n",
            "\n",
            "X1, X0, Z1, Z0 all come directly from dataprep object.\n",
            "\n",
            "\n",
            "**************** \n",
            " searching for synthetic control unit  \n",
            " \n",
            "\n",
            "**************** \n",
            "**************** \n",
            "**************** \n",
            "\n",
            "MSPE (LOSS V): 10.17191 \n",
            "\n",
            "solution.v:\n",
            " 0.001878852 0.0001349297 0.004961181 0.007685388 0.7424166 0.242923 \n",
            "\n",
            "solution.w:\n",
            " 0.2628756 3.98525e-05 0.001886582 4.21915e-05 1.933e-07 0.1074011 3.17193e-05 0.6229977 2.91918e-05 5.634e-07 0.00463327 1.42366e-05 4.77476e-05 \n",
            "\n",
            "\n",
            "X1, X0, Z1, Z0 all come directly from dataprep object.\n",
            "\n",
            "\n",
            "**************** \n",
            " searching for synthetic control unit  \n",
            " \n",
            "\n",
            "**************** \n",
            "**************** \n",
            "**************** \n",
            "\n",
            "MSPE (LOSS V): 11.78261 \n",
            "\n",
            "solution.v:\n",
            " 0.02265129 0.1080896 0.002339139 0.289236 0.4755652 0.1021188 \n",
            "\n",
            "solution.w:\n",
            " 0.0009412058 0.4478575 0.001351665 0.001689871 0.126493 0.001281718 0.1645801 0.0003009979 0.003402548 0.0002984025 0.02421178 0.08130757 0.1462835 \n",
            "\n",
            "\n",
            "X1, X0, Z1, Z0 all come directly from dataprep object.\n",
            "\n",
            "\n",
            "**************** \n",
            " searching for synthetic control unit  \n",
            " \n",
            "\n",
            "**************** \n",
            "**************** \n",
            "**************** \n",
            "\n",
            "MSPE (LOSS V): 165.9147 \n",
            "\n",
            "solution.v:\n",
            " 0.1640134 0.4699182 0 0.163837 3e-10 0.2022313 \n",
            "\n",
            "solution.w:\n",
            " 0.002065184 0.001249679 8.8883e-06 0.103853 0.06549204 0.001138432 0.2169769 0.009883175 0.5889322 0.003882687 0.003367459 0.001365557 0.001784823 \n",
            "\n"
          ]
        }
      ]
    },
    {
      "cell_type": "code",
      "source": [
        "# Create data for plotting\n",
        "fig_d <- store\n",
        "rownames(fig_d) <- c(2006,2009,2012,2015,2018)\n",
        "\n",
        "# Set bounds in gaps data\n",
        "gap.start     <- 1\n",
        "gap.end       <- nrow(fig_d)\n",
        "years         <- c(2006,2009,2012,2015,2018)\n",
        "gap.end.pre  <- which(rownames(fig_d)==\"2009\")\n",
        "\n",
        "#  MSPE Pre-Treatment\n",
        "mse        <-             apply(fig_d[ gap.start:gap.end.pre,]^2,2,mean)\n",
        "data.mse <- as.numeric(mse[7])\n",
        "\n",
        "y_vec <- as.vector(fig_d[gap.start:gap.end,which(colnames(fig_d)==\"Jordan\")])\n",
        "\n",
        "# Plot\n",
        "plot(years,as.vector(fig_d[gap.start:gap.end,which(colnames(fig_d)==\"Jordan\")]),\n",
        "     xlab=\"year\",\n",
        "     xlim = range(years),\n",
        "     ylim = range(-50, 50),\n",
        "     ylab=\"PISA - Mathematics\",\n",
        "     type=\"l\",lwd=2,col=\"black\",\n",
        "     xaxs=\"i\",yaxs=\"i\")\n",
        "\n",
        "# Add lines for control states\n",
        "for (i in 1:ncol(fig_d)) { lines(years,fig_d[gap.start:gap.end,i],col=\"gray\") } # !\n",
        "\n",
        "## Add Jordan Line\n",
        "lines(years,fig_d[gap.start:gap.end,which(colnames(fig_d)==\"Jordan\")],lwd=2,col=\"black\")\n",
        "\n",
        "# Add details\n",
        "legend(\"bottomright\",legend=c(\"Jordan\",\"Control regions\"),\n",
        "lty=c(1,1),col=c(\"black\",\"gray\"),lwd=c(2,1),cex=.8)\n",
        "arrows(2009,-20,2010.5,-20,col=\"black\",length=.1)\n",
        "text(2007.5,-20,\"Refugee Crisis\")\n",
        "abline(v=2011)\n",
        "\n",
        "print(fig_d)"
      ],
      "metadata": {
        "id": "SKIh0mCUty_F",
        "colab": {
          "base_uri": "https://localhost:8080/",
          "height": 749
        },
        "outputId": "c648fb57-bad0-4d83-ee05-eb2b3b7f5bcc"
      },
      "execution_count": null,
      "outputs": [
        {
          "output_type": "stream",
          "name": "stdout",
          "text": [
            "       Argentina     Brazil   Bulgaria    Croatia Hong Kong-China  Indonesia\n",
            "2006  -0.8157537  -7.644863 -3.2609852  1.7597412       22.000021  20.529225\n",
            "2009   7.3103952   5.397121  1.9794997 -8.4898206       30.000020 -15.364184\n",
            "2012   1.3348057   7.019611  4.3010377  2.1840935       23.000022 -14.413038\n",
            "2015  10.2513812  -7.235150  0.8078769  0.8696839        4.000023   8.480371\n",
            "2018 -16.5277460 -12.400594 -3.0995533 -1.3536816       -6.999974  -5.461892\n",
            "         Jordan Macao-China Montenegro     Qatar    Romania Russian Federation\n",
            "2006 -0.3654565   -1.428915   1.312512 -52.51486  0.5761581           3.989903\n",
            "2009 -0.3390869  -13.201654  -7.767613 -18.09365 -0.1800699          -3.786714\n",
            "2012 -5.4509944   -6.381298   1.284947 -12.95326  7.8504237           1.580544\n",
            "2015 -6.5884027    9.115396   1.716245  23.50237  2.1221335           3.142076\n",
            "2018 11.1890698   19.306932   3.198827  30.23392 -6.0103711          -2.868844\n",
            "      Thailand   Uruguay\n",
            "2006  3.871197  13.46029\n",
            "2009 -2.458219  10.41766\n",
            "2012  4.594114 -13.28518\n",
            "2015 -1.729259  -6.30917\n",
            "2018 -3.713193 -17.98791\n"
          ]
        },
        {
          "output_type": "display_data",
          "data": {
            "text/plain": [
              "plot without title"
            ],
            "image/png": "[encoded data removed]"
          },
          "metadata": {
            "image/png": {
              "width": 420,
              "height": 420
            }
          }
        }
      ]
    },
    {
      "cell_type": "markdown",
      "source": [
        "## Placebo test 2. Using Brazil\n",
        "\n"
      ],
      "metadata": {
        "id": "9QKgMIU3Gz-l"
      }
    },
    {
      "cell_type": "code",
      "source": [
        "#Extracting control identifiers\n",
        "unique_country_codes <- unique(data$`Country Code`)\n",
        "exclude_codes <- c(2, 7, 14) # excluding Brazil, Jordan and Tunisia\n",
        "\n",
        "# Filter out the excluded country codes\n",
        "control_country_codes <- unique_country_codes[!unique_country_codes %in% exclude_codes]\n",
        "\n",
        "# Dataprep\n",
        "dataprep.out.2 <-\n",
        "              dataprep(foo = data,\n",
        "                       predictors = c(\"Population\", \"GDP per capita (current USD)\", \"Political Stability and Absence of Violence/Terrorism: Percentile Rank\", \"Student:Teacher Ratio\") ,\n",
        "                       predictors.op = \"mean\" ,\n",
        "                       time.predictors.prior = c(2006, 2009),\n",
        "                       special.predictors = list(\n",
        "                             list(\"PISA - Mathematics\", 2006, 'mean'),\n",
        "                             list(\"PISA - Reading\", 2006, 'mean')),\n",
        "                       dependent = \"PISA_math_filled\",\n",
        "                       unit.variable = \"Country Code\",\n",
        "                       unit.names.variable = \"Country\",\n",
        "                       time.variable = \"Year\",\n",
        "                       treatment.identifier = 2, # Change the ID to other unit that did NOT receive the treatment\n",
        "                       controls.identifier = control_country_codes,\n",
        "                       time.optimize.ssr =c(2006, 2009, 2012, 2015, 2018),\n",
        "                       time.plot = c(2006, 2009, 2012, 2015, 2018)\n",
        "                       )"
      ],
      "metadata": {
        "id": "Ggpg7abKG1ed"
      },
      "execution_count": null,
      "outputs": []
    },
    {
      "cell_type": "code",
      "source": [
        "# Synth\n",
        "synth.out.2 <- synth(data.prep.obj = dataprep.out.2,\n",
        "                   method = \"BFGS\"\n",
        "                   )"
      ],
      "metadata": {
        "id": "I2-nGhnZNJeJ",
        "colab": {
          "base_uri": "https://localhost:8080/"
        },
        "outputId": "80a7d95c-c923-41fc-a908-42d6533b6723"
      },
      "execution_count": null,
      "outputs": [
        {
          "output_type": "stream",
          "name": "stdout",
          "text": [
            "\n",
            "X1, X0, Z1, Z0 all come directly from dataprep object.\n",
            "\n",
            "\n",
            "**************** \n",
            " searching for synthetic control unit  \n",
            " \n",
            "\n",
            "**************** \n",
            "**************** \n",
            "**************** \n",
            "\n",
            "MSPE (LOSS V): 106.0749 \n",
            "\n",
            "solution.v:\n",
            " 0.06654995 0.008695029 0.06597745 0.03382729 0.7943037 0.03064659 \n",
            "\n",
            "solution.w:\n",
            " 2.79e-08 5.11e-08 5.59e-08 7e-09 0.6662589 4.75e-08 4.094e-07 0.2267172 2.216e-07 2.04e-08 0.1070226 4.103e-07 \n",
            "\n"
          ]
        }
      ]
    },
    {
      "cell_type": "code",
      "source": [
        "# Path Plot\n",
        "path.plot(synth.res = synth.out.2,\n",
        "          dataprep.res = dataprep.out.2,\n",
        "          tr.intake = NA,\n",
        "          Ylab = \"PISA Mathematics Scores\",\n",
        "          Xlab = \"Year\",\n",
        "          Legend = c(\"Brazil country\",\"synthetic Brazil\"),\n",
        "          Legend.position = \"bottomright\",\n",
        "          )"
      ],
      "metadata": {
        "id": "OfNPkDCoNldE",
        "colab": {
          "base_uri": "https://localhost:8080/",
          "height": 437
        },
        "outputId": "53323bee-65b9-4374-ba93-aabeb8a6d774"
      },
      "execution_count": null,
      "outputs": [
        {
          "output_type": "display_data",
          "data": {
            "text/plain": [
              "Plot with title “NA”"
            ],
            "image/png": "[encoded data removed]"
          },
          "metadata": {
            "image/png": {
              "width": 420,
              "height": 420
            }
          }
        }
      ]
    },
    {
      "cell_type": "markdown",
      "source": [
        "## Robustness - Removing Donor Countries"
      ],
      "metadata": {
        "id": "N3RaYebtrlmn"
      }
    },
    {
      "cell_type": "code",
      "source": [
        "# Dataprep\n",
        "dataprep.out.r <-\n",
        "              dataprep(foo = data,\n",
        "                         predictors = c(\"Population\", \"GDP per capita (current USD)\", \"Political Stability and Absence of Violence/Terrorism: Percentile Rank\", \"Student_teach_filled\"),\n",
        "                         predictors.op = \"mean\",\n",
        "                         time.predictors.prior=c(2006, 2009),\n",
        "                         special.predictors = list(\n",
        "                             list(\"PISA - Mathematics\", 2006, 'mean'),\n",
        "                             list(\"PISA - Reading\", 2006, 'mean')),\n",
        "                        dependent = \"PISA_math_filled\",\n",
        "                        unit.variable = \"Country Code\",\n",
        "                        unit.names.variable = \"Country\",\n",
        "                        time.variable = \"Year\",\n",
        "                       treatment.identifier = 7,\n",
        "                       controls.identifier = c(1, 3:6, 8:13, 15),\n",
        "                       time.optimize.ssr=c(2006, 2009, 2012, 2015, 2018),\n",
        "                        time.plot=c(2006, 2009, 2012, 2015, 2018)\n",
        "                       )\n",
        "\n",
        "\n",
        "# Synth\n",
        "synth.out.r <- synth(\n",
        "                   data.prep.obj = dataprep.out.r,\n",
        "                   method = \"BFGS\"\n",
        "                   )\n",
        "\n",
        "# Path plot\n",
        "path.plot(synth.res = synth.out.r,\n",
        "          dataprep.res = dataprep.out.r,\n",
        "          Ylab = \"PISA - Mathematics\",\n",
        "          Xlab = \"Year\",\n",
        "          Ylim = c(370, 410),\n",
        "          Legend = c(\"Jordan\",\"Synthetic Jordan without Brazil\"),\n",
        "          Legend.position = \"bottomright\")\n",
        "abline(v=2011, lty=2) # adding vertical line for treatment year\n",
        "axis(1, at=seq(2006, 2018, by=2))"
      ],
      "metadata": {
        "id": "_sAbQ23Frp8c",
        "colab": {
          "base_uri": "https://localhost:8080/",
          "height": 784
        },
        "outputId": "e760597a-006d-47c2-c839-c27b67282d0d"
      },
      "execution_count": null,
      "outputs": [
        {
          "output_type": "stream",
          "name": "stdout",
          "text": [
            "\n",
            "X1, X0, Z1, Z0 all come directly from dataprep object.\n",
            "\n",
            "\n",
            "**************** \n",
            " searching for synthetic control unit  \n",
            " \n",
            "\n",
            "**************** \n",
            "**************** \n",
            "**************** \n",
            "\n",
            "MSPE (LOSS V): 80.87533 \n",
            "\n",
            "solution.v:\n",
            " 0.0005075266 0.112076 0.3411644 0.1969474 0.3403812 0.00892344 \n",
            "\n",
            "solution.w:\n",
            " 0.01814809 0.0006222335 7.88551e-05 1.0623e-06 0.7437665 5.8449e-06 0.1997884 0.03504333 0.0001197592 8.09716e-05 0.002264039 8.09615e-05 \n",
            "\n"
          ]
        },
        {
          "output_type": "display_data",
          "data": {
            "text/plain": [
              "Plot with title “NA”"
            ],
            "image/png": "[encoded data removed]"
          },
          "metadata": {
            "image/png": {
              "width": 420,
              "height": 420
            }
          }
        }
      ]
    },
    {
      "cell_type": "markdown",
      "source": [
        "# Synthetic Control Analysis - Reading"
      ],
      "metadata": {
        "id": "sr25XEtYGSPI"
      }
    },
    {
      "cell_type": "markdown",
      "source": [
        "## Dataprep"
      ],
      "metadata": {
        "id": "7SQ5kzJHrV-2"
      }
    },
    {
      "cell_type": "code",
      "source": [
        "dataprep.read <- dataprep(foo=data,\n",
        "                         predictors = c(\"Population\", \"GDP per capita (current USD)\", \"Political Stability and Absence of Violence/Terrorism: Percentile Rank\", \"Student_teach_filled\"),\n",
        "                         predictors.op = \"mean\",\n",
        "                         time.predictors.prior=c(2006, 2009, 2012),\n",
        "                         special.predictors = list(\n",
        "                             list(\"PISA - Mathematics\", 2006, 'mean'),\n",
        "                             list(\"PISA - Reading\", 2006, 'mean')),\n",
        "                        dependent = \"PISA_read_filled\",\n",
        "                        unit.variable = \"Country Code\",\n",
        "                        unit.names.variable = \"Country\",\n",
        "                        time.variable = \"Year\",\n",
        "                        treatment.identifier = 7,\n",
        "                        controls.identifier = c(1:6, 8:13, 15),\n",
        "                        time.optimize.ssr=c(2006, 2009, 2012, 2015, 2018),\n",
        "                        time.plot=c(2006, 2009, 2012, 2015, 2018)\n",
        ")"
      ],
      "metadata": {
        "id": "miE61Ub7O2TY"
      },
      "execution_count": null,
      "outputs": []
    },
    {
      "cell_type": "markdown",
      "source": [
        "## Synthetic Control Analysis"
      ],
      "metadata": {
        "id": "jQQExaG2rX7n"
      }
    },
    {
      "cell_type": "code",
      "source": [
        "# Sythnetic control\n",
        "synth.read <- synth(data.prep.obj = dataprep.read)\n",
        "\n",
        "# Creating tables\n",
        "synth.tables.read <- synth.tab(dataprep.res = dataprep.read,\n",
        "                          synth.res = synth.read\n",
        ")\n",
        "synth.tables.read$tab.w[1:13, ]\n",
        "synth.tables.read$tab.pred[1:5, ]\n",
        "\n",
        "# Path plot\n",
        "path.plot(synth.res = synth.read,\n",
        "          dataprep.res = dataprep.read,\n",
        "          Ylab = \"PISA - Reading\",\n",
        "          Xlab = \"Year\",\n",
        "          Ylim = c(380,430),\n",
        "          Legend = c(\"Jordan\",\"Synthetic Jordan\"),\n",
        "          Legend.position = \"bottomright\")\n",
        "abline(v=2011, lty=2) # adding vertical line for treatment year\n",
        "axis(1, at=seq(2006, 2018, by=2))\n",
        "\n",
        "# Gaps plot\n",
        "gaps.plot(synth.res = synth.read,\n",
        "          dataprep.res = dataprep.read,\n",
        "          Ylab = \"PISA - Reading\",\n",
        "          Xlab = \"Year\",\n",
        "          Main = NA)\n",
        "abline(v=2011, lty=2) # adding vertical line for treatment year\n",
        "axis(1, at=seq(2006, 2018, by=2))"
      ],
      "metadata": {
        "id": "-oLMKqVaO9Pb",
        "colab": {
          "base_uri": "https://localhost:8080/",
          "height": 1000
        },
        "outputId": "3d4ac975-c257-4125-dc83-91e925328aae"
      },
      "execution_count": null,
      "outputs": [
        {
          "output_type": "stream",
          "name": "stdout",
          "text": [
            "\n",
            "X1, X0, Z1, Z0 all come directly from dataprep object.\n",
            "\n",
            "\n",
            "**************** \n",
            " searching for synthetic control unit  \n",
            " \n",
            "\n",
            "**************** \n",
            "**************** \n",
            "**************** \n",
            "\n",
            "MSPE (LOSS V): 71.9433 \n",
            "\n",
            "solution.v:\n",
            " 0.0007721761 0.06515934 2.41e-08 0.00108129 0.6867328 0.2462543 \n",
            "\n",
            "solution.w:\n",
            " 0.0004180543 0.5262153 1.77923e-05 0.05315967 0.0001347928 0.2219233 0.0001628323 0.1929576 1.256e-07 0.001034928 0.000574731 0.002186736 0.001214111 \n",
            "\n"
          ]
        },
        {
          "output_type": "display_data",
          "data": {
            "text/html": [
              "<table class=\"dataframe\">\n",
              "<caption>A data.frame: 13 × 3</caption>\n",
              "<thead>\n",
              "\t<tr><th></th><th scope=col>w.weights</th><th scope=col>unit.names</th><th scope=col>unit.numbers</th></tr>\n",
              "\t<tr><th></th><th scope=col>&lt;dbl&gt;</th><th scope=col>&lt;chr&gt;</th><th scope=col>&lt;dbl&gt;</th></tr>\n",
              "</thead>\n",
              "<tbody>\n",
              "\t<tr><th scope=row>1</th><td>0.000</td><td>Argentina         </td><td> 1</td></tr>\n",
              "\t<tr><th scope=row>2</th><td>0.526</td><td>Brazil            </td><td> 2</td></tr>\n",
              "\t<tr><th scope=row>3</th><td>0.000</td><td>Bulgaria          </td><td> 3</td></tr>\n",
              "\t<tr><th scope=row>4</th><td>0.053</td><td>Croatia           </td><td> 4</td></tr>\n",
              "\t<tr><th scope=row>5</th><td>0.000</td><td>Hong Kong-China   </td><td> 5</td></tr>\n",
              "\t<tr><th scope=row>6</th><td>0.222</td><td>Indonesia         </td><td> 6</td></tr>\n",
              "\t<tr><th scope=row>8</th><td>0.000</td><td>Macao-China       </td><td> 8</td></tr>\n",
              "\t<tr><th scope=row>9</th><td>0.193</td><td>Montenegro        </td><td> 9</td></tr>\n",
              "\t<tr><th scope=row>10</th><td>0.000</td><td>Qatar             </td><td>10</td></tr>\n",
              "\t<tr><th scope=row>11</th><td>0.001</td><td>Romania           </td><td>11</td></tr>\n",
              "\t<tr><th scope=row>12</th><td>0.001</td><td>Russian Federation</td><td>12</td></tr>\n",
              "\t<tr><th scope=row>13</th><td>0.002</td><td>Thailand          </td><td>13</td></tr>\n",
              "\t<tr><th scope=row>15</th><td>0.001</td><td>Uruguay           </td><td>15</td></tr>\n",
              "</tbody>\n",
              "</table>\n"
            ],
            "text/markdown": "\nA data.frame: 13 × 3\n\n| <!--/--> | w.weights &lt;dbl&gt; | unit.names &lt;chr&gt; | unit.numbers &lt;dbl&gt; |\n|---|---|---|---|\n| 1 | 0.000 | Argentina          |  1 |\n| 2 | 0.526 | Brazil             |  2 |\n| 3 | 0.000 | Bulgaria           |  3 |\n| 4 | 0.053 | Croatia            |  4 |\n| 5 | 0.000 | Hong Kong-China    |  5 |\n| 6 | 0.222 | Indonesia          |  6 |\n| 8 | 0.000 | Macao-China        |  8 |\n| 9 | 0.193 | Montenegro         |  9 |\n| 10 | 0.000 | Qatar              | 10 |\n| 11 | 0.001 | Romania            | 11 |\n| 12 | 0.001 | Russian Federation | 12 |\n| 13 | 0.002 | Thailand           | 13 |\n| 15 | 0.001 | Uruguay            | 15 |\n\n",
            "text/latex": "A data.frame: 13 × 3\n\\begin{tabular}{r|lll}\n  & w.weights & unit.names & unit.numbers\\\\\n  & <dbl> & <chr> & <dbl>\\\\\n\\hline\n\t1 & 0.000 & Argentina          &  1\\\\\n\t2 & 0.526 & Brazil             &  2\\\\\n\t3 & 0.000 & Bulgaria           &  3\\\\\n\t4 & 0.053 & Croatia            &  4\\\\\n\t5 & 0.000 & Hong Kong-China    &  5\\\\\n\t6 & 0.222 & Indonesia          &  6\\\\\n\t8 & 0.000 & Macao-China        &  8\\\\\n\t9 & 0.193 & Montenegro         &  9\\\\\n\t10 & 0.000 & Qatar              & 10\\\\\n\t11 & 0.001 & Romania            & 11\\\\\n\t12 & 0.001 & Russian Federation & 12\\\\\n\t13 & 0.002 & Thailand           & 13\\\\\n\t15 & 0.001 & Uruguay            & 15\\\\\n\\end{tabular}\n",
            "text/plain": [
              "   w.weights unit.names         unit.numbers\n",
              "1  0.000     Argentina           1          \n",
              "2  0.526     Brazil              2          \n",
              "3  0.000     Bulgaria            3          \n",
              "4  0.053     Croatia             4          \n",
              "5  0.000     Hong Kong-China     5          \n",
              "6  0.222     Indonesia           6          \n",
              "8  0.000     Macao-China         8          \n",
              "9  0.193     Montenegro          9          \n",
              "10 0.000     Qatar              10          \n",
              "11 0.001     Romania            11          \n",
              "12 0.001     Russian Federation 12          \n",
              "13 0.002     Thailand           13          \n",
              "15 0.001     Uruguay            15          "
            ]
          },
          "metadata": {}
        },
        {
          "output_type": "display_data",
          "data": {
            "text/html": [
              "<table class=\"dataframe\">\n",
              "<caption>A matrix: 5 × 3 of type dbl</caption>\n",
              "<thead>\n",
              "\t<tr><th></th><th scope=col>Treated</th><th scope=col>Synthetic</th><th scope=col>Sample Mean</th></tr>\n",
              "</thead>\n",
              "<tbody>\n",
              "\t<tr><th scope=row>Population</th><td>6689301.333</td><td>1.564216e+08</td><td>56318548.615</td></tr>\n",
              "\t<tr><th scope=row>GDP per capita (current USD)</th><td>   3494.549</td><td>7.138774e+03</td><td>   17809.155</td></tr>\n",
              "\t<tr><th scope=row>Political Stability and Absence of Violence/Terrorism: Percentile Rank</th><td>     28.428</td><td>4.329200e+01</td><td>      53.406</td></tr>\n",
              "\t<tr><th scope=row>Student_teach_filled</th><td>     17.333</td><td>2.349500e+01</td><td>      16.718</td></tr>\n",
              "\t<tr><th scope=row>special.PISA - Mathematics.2006</th><td>    384.000</td><td>3.857470e+02</td><td>     426.615</td></tr>\n",
              "</tbody>\n",
              "</table>\n"
            ],
            "text/markdown": "\nA matrix: 5 × 3 of type dbl\n\n| <!--/--> | Treated | Synthetic | Sample Mean |\n|---|---|---|---|\n| Population | 6689301.333 | 1.564216e+08 | 56318548.615 |\n| GDP per capita (current USD) |    3494.549 | 7.138774e+03 |    17809.155 |\n| Political Stability and Absence of Violence/Terrorism: Percentile Rank |      28.428 | 4.329200e+01 |       53.406 |\n| Student_teach_filled |      17.333 | 2.349500e+01 |       16.718 |\n| special.PISA - Mathematics.2006 |     384.000 | 3.857470e+02 |      426.615 |\n\n",
            "text/latex": "A matrix: 5 × 3 of type dbl\n\\begin{tabular}{r|lll}\n  & Treated & Synthetic & Sample Mean\\\\\n\\hline\n\tPopulation & 6689301.333 & 1.564216e+08 & 56318548.615\\\\\n\tGDP per capita (current USD) &    3494.549 & 7.138774e+03 &    17809.155\\\\\n\tPolitical Stability and Absence of Violence/Terrorism: Percentile Rank &      28.428 & 4.329200e+01 &       53.406\\\\\n\tStudent\\_teach\\_filled &      17.333 & 2.349500e+01 &       16.718\\\\\n\tspecial.PISA - Mathematics.2006 &     384.000 & 3.857470e+02 &      426.615\\\\\n\\end{tabular}\n",
            "text/plain": [
              "                                                                       Treated    \n",
              "Population                                                             6689301.333\n",
              "GDP per capita (current USD)                                              3494.549\n",
              "Political Stability and Absence of Violence/Terrorism: Percentile Rank      28.428\n",
              "Student_teach_filled                                                        17.333\n",
              "special.PISA - Mathematics.2006                                            384.000\n",
              "                                                                       Synthetic   \n",
              "Population                                                             1.564216e+08\n",
              "GDP per capita (current USD)                                           7.138774e+03\n",
              "Political Stability and Absence of Violence/Terrorism: Percentile Rank 4.329200e+01\n",
              "Student_teach_filled                                                   2.349500e+01\n",
              "special.PISA - Mathematics.2006                                        3.857470e+02\n",
              "                                                                       Sample Mean \n",
              "Population                                                             56318548.615\n",
              "GDP per capita (current USD)                                              17809.155\n",
              "Political Stability and Absence of Violence/Terrorism: Percentile Rank       53.406\n",
              "Student_teach_filled                                                         16.718\n",
              "special.PISA - Mathematics.2006                                             426.615"
            ]
          },
          "metadata": {}
        },
        {
          "output_type": "display_data",
          "data": {
            "text/plain": [
              "Plot with title “NA”"
            ],
            "image/png": "[encoded data removed]"
          },
          "metadata": {
            "image/png": {
              "width": 420,
              "height": 420
            }
          }
        },
        {
          "output_type": "display_data",
          "data": {
            "text/plain": [
              "Plot with title “NA”"
            ],
            "image/png": "[encoded data removed]"
          },
          "metadata": {
            "image/png": {
              "width": 420,
              "height": 420
            }
          }
        }
      ]
    }
  ]
}